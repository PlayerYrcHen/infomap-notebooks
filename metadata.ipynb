{
 "cells": [
  {
   "cell_type": "markdown",
   "metadata": {},
   "source": [
    "### Semi-supervised clustering with Infomap\n",
    "Using a modified map equation to also encode metadata according to [A Map Equation with Metadata: Varying the Role of Attributes in Community Detection](https://arxiv.org/abs/1810.10433) by Emmons 2019."
   ]
  },
  {
   "cell_type": "code",
   "execution_count": null,
   "metadata": {},
   "outputs": [],
   "source": [
    "import numpy as np\n",
    "import pandas as pd\n",
    "import networkx as nx\n",
    "import infomap\n",
    "from collections import defaultdict\n",
    "import matplotlib.colors as colors\n",
    "import pathlib\n",
    "import seaborn as sns\n",
    "import holoviews as hv\n",
    "import hvplot.networkx as hvnx\n",
    "import hvplot.pandas\n",
    "hv.extension('bokeh', 'matplotlib')"
   ]
  },
  {
   "cell_type": "code",
   "execution_count": null,
   "metadata": {},
   "outputs": [],
   "source": [
    "\"\"\"\n",
    "Generate and draw a network with NetworkX, colored\n",
    "according to the community structure found by Infomap.\n",
    "\"\"\"\n",
    "\n",
    "def findCommunities(G, flags=\"\", metaDataName=\"metaData\", computeCodelengthOfMetaDataCommunities=False):\n",
    "    \"\"\"\n",
    "    Partition network with the Infomap algorithm.\n",
    "    Annotates nodes with 'community' id.\n",
    "    If 'computeCodelengthOfMetaDataCommunities' is True, calculate codelength\n",
    "    on a partition defined by meta data.\n",
    "    \"\"\"\n",
    "\n",
    "    if computeCodelengthOfMetaDataCommunities:\n",
    "        flags += \" --no-infomap\"\n",
    "\n",
    "    im = infomap.Infomap(flags)\n",
    "\n",
    "    for (source, target) in G.edges:\n",
    "        im.add_link(source, target)\n",
    "    \n",
    "    metaData = nx.get_node_attributes(G, metaDataName)\n",
    "    for nodeId, meta in metaData.items():\n",
    "        im.set_meta_data(nodeId, meta)\n",
    "\n",
    "    if computeCodelengthOfMetaDataCommunities:\n",
    "        im.run(initial_partition = { nodeId: int(moduleId) for nodeId, moduleId in nx.get_node_attributes(G, metaDataName).items() })\n",
    "    else:\n",
    "        im.run()\n",
    "\n",
    "    # Store result on nodes and graph\n",
    "    flow = { node.node_id: node.data.flow for node in im.nodes }\n",
    "    nx.set_node_attributes(G, metaData, 'meta_data')\n",
    "    nx.set_node_attributes(G, im.get_modules(), 'modules')\n",
    "    nx.set_node_attributes(G, flow, 'flow')\n",
    "    G.graph['num_modules'] = im.num_top_modules\n",
    "    G.graph['codelength'] = im.codelength\n",
    "    G.graph['index_codelength'] = im.index_codelength\n",
    "    G.graph['module_codelength'] = im.module_codelength\n",
    "    G.graph['meta_codelength'] = im.meta_codelength\n",
    "    G.graph['meta_entropy'] = im.meta_entropy\n",
    "    \n",
    "    return im.num_top_modules, im.codelength, im.meta_codelength, im.meta_entropy\n",
    "\n",
    "\n",
    "def drawNetwork(G, pos=None, label=None):\n",
    "    if pos is None:\n",
    "        pos = nx.spring_layout(G, seed=5)\n",
    "#     cmap = 'Set3'\n",
    "    modules = nx.get_node_attributes(G, 'modules')\n",
    "    num_modules = G.graph['num_modules']\n",
    "    palette = sns.color_palette(\"pastel\", num_modules)\n",
    "    cmap = colors.ListedColormap(palette)\n",
    "    shapes = list('so^>v<d') + ['hex', 'circle_x', 'diamond_cross']\n",
    "    \n",
    "    meta_nodelist = defaultdict(list)\n",
    "    for node, meta in G.nodes(data='meta_data'):\n",
    "        meta_nodelist[meta].append(node)\n",
    "    \n",
    "    if len(meta_nodelist) > len(shapes):\n",
    "        return hvnx.draw(G, pos, node_color='modules', labels='meta_data', cmap=cmap, label=label)\n",
    "\n",
    "    edges = hvnx.draw_networkx_edges(G, pos, alpha=0.5)\n",
    "    nodes = []\n",
    "    for meta, nodelist in meta_nodelist.items():\n",
    "        # split on community for different colors\n",
    "        # TODO: Why doesn't node_shape work with hvnx? Workaround: Use hv.Scatter with marker option\n",
    "        homogenous_nodes = defaultdict(list)\n",
    "        for node in nodelist:\n",
    "            homogenous_nodes[modules[node]].append(node)\n",
    "        for c, same_nodes in homogenous_nodes.items():\n",
    "            sub_pos = [pos[node] for node in same_nodes]\n",
    "            nodes.append(hv.Scatter(sub_pos).options(hv.opts.Scatter(size=20, marker=shapes[meta], color=cmap(c))))\n",
    "#     labels = hvnx.draw_networkx_nodes(G, pos, labels='metaData', node_alpha=0)\n",
    "    \n",
    "    return hv.Overlay([edges, hv.Overlay(nodes)], label=label)"
   ]
  },
  {
   "cell_type": "code",
   "execution_count": null,
   "metadata": {},
   "outputs": [],
   "source": [
    "def addMetaData(G, numCategories=2):\n",
    "    metaData = {}\n",
    "    numNodesPerCategory = G.number_of_nodes() // numCategories + 1\n",
    "    for n in G.nodes:\n",
    "        metaId = n // numNodesPerCategory\n",
    "        metaData[n] = metaId\n",
    "    nx.set_node_attributes(G, values=metaData, name='metaData')"
   ]
  },
  {
   "cell_type": "code",
   "execution_count": null,
   "metadata": {},
   "outputs": [],
   "source": [
    "G = nx.ring_of_cliques(num_cliques=3, clique_size=5)\n",
    "addMetaData(G, numCategories=3)\n",
    "metaDataRates=[0, 0.5, 1, 1.5, 2, 3]\n",
    "graphs = []\n",
    "\n",
    "for eta in metaDataRates:\n",
    "    findCommunities(G, flags = f\"-2 -N1 --meta-data-rate {eta}\")\n",
    "    M = G.graph['num_modules']\n",
    "    Hmeta = G.graph['meta_entropy']\n",
    "    L = G.graph['codelength']\n",
    "    Lmeta = G.graph['meta_codelength']\n",
    "    graphs.append(drawNetwork(G, label=f\"{M} modules, eta = {eta:.1f}, Hmeta = {Hmeta:.2f}, L = {L:.2f} bits\"))\n",
    "hv.Layout(graphs).cols(2)"
   ]
  },
  {
   "cell_type": "markdown",
   "metadata": {},
   "source": [
    "Note:\n",
    "* Meta category encoded by node shape, modules by color.\n",
    "* Modular boundaries from network structure are still respected (the extra cost from meta data entropies _within_ modules doesn't change that).\n",
    "* By increasing `eta`, modules with different meta data are eventually segregated to modules with homogenous meta data."
   ]
  },
  {
   "cell_type": "code",
   "execution_count": null,
   "metadata": {},
   "outputs": [],
   "source": [
    "def plogp(p):\n",
    "    p = np.asarray(p)\n",
    "    return p * np.log2(p, where = p>0)\n",
    "\n",
    "def calc_entropy(p):\n",
    "    p = np.asarray(p)\n",
    "    sumP = np.sum(p)\n",
    "    return -np.sum(plogp(p / sumP)), sumP\n",
    "\n",
    "def calc_meta_entropy(modules, meta_data, node_flow):\n",
    "    # module -> (meta -> prob)\n",
    "    meta_probs = defaultdict(lambda: defaultdict(float))\n",
    "    for node, module in modules.items():\n",
    "        meta = meta_data[node]\n",
    "        flow = node_flow[node]\n",
    "        meta_probs[module][meta] += flow\n",
    "\n",
    "    metaEntropy = 0.0\n",
    "    for module, metaprob in meta_probs.items():\n",
    "        moduleMetaProbs = list(metaprob.values())\n",
    "        H, sumProb = calc_entropy(moduleMetaProbs)\n",
    "        metaEntropy += H * sumProb\n",
    "    return metaEntropy\n",
    "\n",
    "eta = 1.0\n",
    "findCommunities(G, flags = f\"-2 -N1 --meta-data-rate {eta}\")\n",
    "M = G.graph['num_modules']\n",
    "Hmeta = G.graph['meta_entropy']\n",
    "L = G.graph['codelength']\n",
    "Lindex = G.graph['index_codelength']\n",
    "Lmodules = G.graph['module_codelength']\n",
    "Lmeta = G.graph['meta_codelength']\n",
    "LwithoutMeta = L - Lmeta\n",
    "print(\"Codelength parts and meta data entropy check:\")\n",
    "print(f\"Codelength = index codelength ({Lindex}) + module codelength ({Lmodules})\")\n",
    "print(f\"Module codelength = {Lmodules - Lmeta} + meta codelength ({Lmeta})\")\n",
    "print(f\"Meta codelength = eta ({eta}) * meta entropy ({Hmeta})\")\n",
    "modules = nx.get_node_attributes(G, 'modules')\n",
    "meta_data = nx.get_node_attributes(G, 'meta_data')\n",
    "node_flow = nx.get_node_attributes(G, 'flow')\n",
    "# Compare with externally calculated meta entropy\n",
    "metaEntropy = calc_meta_entropy(modules, meta_data, node_flow)\n",
    "print(f\"Externally calculated meta entropy: {metaEntropy} bits\")"
   ]
  },
  {
   "cell_type": "code",
   "execution_count": null,
   "metadata": {},
   "outputs": [],
   "source": [
    "G = nx.karate_club_graph()\n",
    "addMetaData(G, numCategories=3)\n",
    "metaDataRates = np.arange(0, 2, 0.2)\n",
    "graphs = []\n",
    "stats = []\n",
    "for eta in metaDataRates:\n",
    "    M, L, Lmeta, Hmeta = findCommunities(G, flags = f\"-2 --meta-data-rate {eta}\")\n",
    "    graphs.append(drawNetwork(G, label=f\"{M} modules, eta = {eta:.1f}, Hmeta = {Hmeta:.2f}, L = {L:.2f} bits\"))\n",
    "    stats.append([eta, M, L, L - Lmeta, Lmeta, Hmeta])\n",
    "df = pd.DataFrame(stats, columns=['eta', 'Number of modules', 'L', 'L - Lmeta', 'Lmeta = eta * Hmeta', 'Hmeta'])\n",
    "df.set_index('eta', inplace=True)\n",
    "hv.ipython.display(hv.Layout(graphs).cols(2))\n",
    "df.hvplot() * df.hvplot.scatter()"
   ]
  },
  {
   "cell_type": "markdown",
   "metadata": {},
   "source": [
    "## Lawyers data set\n",
    "The Lazega lawyers coworking network partitioned with meta attribute school"
   ]
  },
  {
   "cell_type": "code",
   "execution_count": null,
   "metadata": {},
   "outputs": [],
   "source": [
    "data = np.loadtxt('data/ELwork.dat', dtype=int)\n",
    "attributeColumns = columns=['seniority', 'status', 'gender', 'office', 'years', 'age', 'practice', 'school']\n",
    "attributeMap = {\n",
    "    'status': {1: 'partner', 2: 'associate'},\n",
    "    'gender': {1: 'man', 2: 'woman'},\n",
    "    'office': {1: 'Boston', 2: 'Hartford', 3: 'Providence' },\n",
    "    'practice': {1: 'litigation', 2: 'corporate'},\n",
    "    'school': {1: 'Harvard / Yale', 2: 'University of Connecticut', 3: 'Other'}\n",
    "}\n",
    "attributes = pd.DataFrame(np.loadtxt('data/ELattr.dat', dtype=int), columns=attributeColumns, dtype=int).replace(attributeMap)\n",
    "attributes['metaData'] = pd.Categorical(attributes['school']).codes\n",
    "attributes.head()"
   ]
  },
  {
   "cell_type": "code",
   "execution_count": null,
   "metadata": {},
   "outputs": [],
   "source": [
    "G = nx.from_numpy_matrix(data)\n",
    "for attribute in attributes.columns:\n",
    "    nx.set_node_attributes(G, attributes[attribute], name=attribute)\n",
    "G.remove_nodes_from(list(nx.isolates(G)))"
   ]
  },
  {
   "cell_type": "code",
   "execution_count": null,
   "metadata": {},
   "outputs": [],
   "source": [
    "pos = nx.spring_layout(G, seed=5)\n",
    "metaDataRates = np.arange(0, 2, 0.2)\n",
    "graphs = []\n",
    "stats = []\n",
    "for eta in metaDataRates:\n",
    "    M, L, Lmeta, Hmeta = findCommunities(G, flags = f\"-2 -N1 --meta-data-rate {eta}\")\n",
    "    graphs.append(drawNetwork(G, pos=pos, label=f\"{M} modules, eta = {eta:.1f}, Hmeta = {Hmeta:.2f}, L = {L:.2f} bits\"))\n",
    "    stats.append([eta, M, L, L - Lmeta, Lmeta, Hmeta])\n",
    "df = pd.DataFrame(stats, columns=['eta', 'Number of modules', 'L', 'L - Lmeta', 'Lmeta = eta * Hmeta', 'Hmeta'])\n",
    "df.set_index('eta', inplace=True)\n",
    "hv.ipython.display(hv.Layout(graphs).cols(2))\n",
    "df.hvplot() * df.hvplot.scatter()"
   ]
  },
  {
   "cell_type": "markdown",
   "metadata": {},
   "source": [
    "#### Compare with codelength disregarding network structure using only meta data as community info"
   ]
  },
  {
   "cell_type": "code",
   "execution_count": null,
   "metadata": {},
   "outputs": [],
   "source": [
    "eta = 1\n",
    "M, L, Lmeta, Hmeta = findCommunities(G, flags = f\"--meta-data-rate {eta}\", computeCodelengthOfMetaDataCommunities=True)\n",
    "drawNetwork(G, pos=pos, label=f\"{M} modules, eta = {eta:.1f}, Hmeta = {Hmeta:.2f}, L = {L:.2f} bits\")"
   ]
  },
  {
   "cell_type": "code",
   "execution_count": null,
   "metadata": {},
   "outputs": [],
   "source": [
    "import umap"
   ]
  },
  {
   "cell_type": "code",
   "execution_count": null,
   "metadata": {},
   "outputs": [],
   "source": [
    "findCommunities(G, flags = f\"-2 -N1 --meta-data-rate {0}\")"
   ]
  },
  {
   "cell_type": "code",
   "execution_count": null,
   "metadata": {},
   "outputs": [],
   "source": [
    "M = nx.to_numpy_matrix(G)\n",
    "w, v = np.linalg.eig(M)\n",
    "embedding = umap.UMAP(n_neighbors=4, min_dist=0.1, metric='euclidean').fit_transform(v)\n",
    "posUmap = {i: embedding[i] / 10 for i in range(len(embedding))}\n"
   ]
  },
  {
   "cell_type": "code",
   "execution_count": null,
   "metadata": {},
   "outputs": [],
   "source": [
    "%%opts Graph(node_size=10, edge_alpha=0.3, node_color='community')\n",
    "hvnx.draw(G, pos) + hvnx.draw(G, posUmap)"
   ]
  },
  {
   "cell_type": "code",
   "execution_count": null,
   "metadata": {},
   "outputs": [],
   "source": []
  }
 ],
 "metadata": {
  "kernelspec": {
   "display_name": "Python 3",
   "language": "python",
   "name": "python3"
  },
  "language_info": {
   "codemirror_mode": {
    "name": "ipython",
    "version": 3
   },
   "file_extension": ".py",
   "mimetype": "text/x-python",
   "name": "python",
   "nbconvert_exporter": "python",
   "pygments_lexer": "ipython3",
   "version": "3.8.0"
  }
 },
 "nbformat": 4,
 "nbformat_minor": 4
}
